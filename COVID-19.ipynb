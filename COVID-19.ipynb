{
 "cells": [
  {
   "cell_type": "code",
   "execution_count": 5,
   "metadata": {},
   "outputs": [],
   "source": [
    "# importing libraries \n",
    "\n",
    "import requests \n",
    "from bs4 import BeautifulSoup \n",
    "from tabulate import tabulate \n",
    "import os \n",
    "import numpy as np \n",
    "import matplotlib.pyplot as plt \n"
   ]
  },
  {
   "cell_type": "code",
   "execution_count": 6,
   "metadata": {},
   "outputs": [],
   "source": [
    "extract_contents = lambda row: [x.text.replace('\\n', '') for x in row] \n",
    "URL = 'https://www.mohfw.gov.in/'\n",
    "\n",
    "SHORT_HEADERS = ['SNo', 'State','Indian-Confirmed', \n",
    "\t\t\t\t'Foreign-Confirmed','Cured','Death'] \n",
    "\n",
    "response = requests.get(URL).content \n",
    "soup = BeautifulSoup(response, 'html.parser') \n",
    "header = extract_contents(soup.tr.find_all('th')) \n",
    "\n",
    "stats = [] \n",
    "all_rows = soup.find_all('tr') \n",
    "\n",
    "for row in all_rows: \n",
    "\tstat = extract_contents(row.find_all('td')) \n",
    "\tif stat: \n",
    "\t\tif len(stat) == 5: \n",
    "\t\t\t# last row \n",
    "\t\t\tstat = ['', *stat] \n",
    "\t\t\tstats.append(stat) \n",
    "\t\telif len(stat) == 6: \n",
    "\t\t\tstats.append(stat) \n",
    "\n",
    "stats[-1][1] = \"Total Cases\"\n",
    "\n",
    "stats.remove(stats[-1]) \n"
   ]
  },
  {
   "cell_type": "code",
   "execution_count": 7,
   "metadata": {},
   "outputs": [
    {
     "name": "stdout",
     "output_type": "stream",
     "text": [
      "  SNo  State                          Indian-Confirmed    Foreign-Confirmed    Cured    Death\n",
      "-----  ---------------------------  ------------------  -------------------  -------  -------\n",
      "    1  Andhra Pradesh                               14                    0        1        0\n",
      "    2  Andaman and Nicobar Islands                   9                    0        0        0\n",
      "    3  Bihar                                         9                    0        0        1\n",
      "    4  Chandigarh                                    8                    0        0        0\n",
      "    5  Chhattisgarh                                  6                    0        0        0\n",
      "    6  Delhi                                        38                    1        6        2\n",
      "    7  Goa                                           2                    1        0        0\n",
      "    8  Gujarat                                      52                    1        0        4\n",
      "    9  Haryana                                      19                   14       12        0\n",
      "   10  Himachal Pradesh                              3                    0        0        1\n",
      "   11  Jammu and Kashmir                            31                    0        1        1\n",
      "   12  Karnataka                                    76                    0        5        3\n",
      "   13  Kerala                                      174                    8       15        1\n",
      "   14  Ladakh                                       13                    0        3        0\n",
      "   15  Madhya Pradesh                               30                    0        0        2\n",
      "   16  Maharashtra                                 183                    3       25        6\n",
      "   17  Manipur                                       1                    0        0        0\n",
      "   18  Mizoram                                       1                    0        0        0\n",
      "   19  Odisha                                        3                    0        0        0\n",
      "   20  Puducherry                                    1                    0        0        0\n",
      "   21  Punjab                                       38                    0        1        1\n",
      "   22  Rajasthan                                    52                    2        3        0\n",
      "   23  Tamil Nadu                                   36                    6        2        1\n",
      "   24  Telengana                                    56                   10        1        1\n",
      "   25  Uttarakhand                                   5                    1        1        0\n",
      "   26  Uttar Pradesh                                54                    1       11        0\n",
      "   27  West Bengal                                  17                    0        0        1\n"
     ]
    }
   ],
   "source": [
    "objects = [] \n",
    "for row in stats : \n",
    "\tobjects.append(row[1]) \n",
    "\n",
    "y_pos = np.arange(len(objects)) \n",
    "\n",
    "performance = [] \n",
    "for row in stats : \n",
    "\tperformance.append(int(row[2]) + int(row[3])) \n",
    "\n",
    "table = tabulate(stats, headers=SHORT_HEADERS) \n",
    "print(table) \n"
   ]
  },
  {
   "cell_type": "code",
   "execution_count": 8,
   "metadata": {},
   "outputs": [
    {
     "data": {
      "image/png": "[encoded data removed]",
      "text/plain": [
       "<Figure size 432x288 with 1 Axes>"
      ]
     },
     "metadata": {
      "needs_background": "light"
     },
     "output_type": "display_data"
    }
   ],
   "source": [
    "plt.barh(y_pos, performance, align='center', alpha=0.5, \n",
    "\t\t\t\tcolor=(234/256.0, 128/256.0, 252/256.0), \n",
    "\t\t\t\tedgecolor=(106/256.0, 27/256.0, 154/256.0)) \n",
    "\n",
    "plt.yticks(y_pos, objects) \n",
    "plt.xlim(1,80) \n",
    "plt.xlabel('Number of Cases') \n",
    "plt.title('Corona Virus Cases') \n",
    "plt.show() \n"
   ]
  },
  {
   "cell_type": "code",
   "execution_count": null,
   "metadata": {},
   "outputs": [],
   "source": []
  }
 ],
 "metadata": {
  "kernelspec": {
   "display_name": "Python 3",
   "language": "python",
   "name": "python3"
  },
  "language_info": {
   "codemirror_mode": {
    "name": "ipython",
    "version": 3
   },
   "file_extension": ".py",
   "mimetype": "text/x-python",
   "name": "python",
   "nbconvert_exporter": "python",
   "pygments_lexer": "ipython3",
   "version": "3.7.1"
  }
 },
 "nbformat": 4,
 "nbformat_minor": 2
}
